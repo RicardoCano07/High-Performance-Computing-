{
 "cells": [
  {
   "cell_type": "markdown",
   "metadata": {},
   "source": [
    "<center>\n",
    "\n",
    "# Assignment 3\n",
    "## Ricardo Cano \n",
    "<center>"
   ]
  },
  {
   "cell_type": "markdown",
   "metadata": {},
   "source": [
    "## 1. Python Performance"
   ]
  },
  {
   "cell_type": "markdown",
   "metadata": {},
   "source": [
    "$\\textbf{a.}$ In this point I studied the different types of for cycles that were on the indicated webpage, where the cycle I used for my example shows that it is much more efficient than the others (I made different simulations and i took different times). My example proposes a list called \"numbers\" than contains odd and even numbers. Then I defined a function (func) that recognizes if the number is \"even\" or \"not even\", then I used a for cycle that uses a map function, to validate func in the list that I proposed.\n",
    "\n"
   ]
  },
  {
   "cell_type": "code",
   "execution_count": 44,
   "metadata": {},
   "outputs": [],
   "source": [
    "import numpy as np\n",
    "import time"
   ]
  },
  {
   "cell_type": "code",
   "execution_count": 45,
   "metadata": {},
   "outputs": [],
   "source": [
    "numbers=[2,31,26,5,6,14,24,67,21]"
   ]
  },
  {
   "cell_type": "code",
   "execution_count": 46,
   "metadata": {},
   "outputs": [],
   "source": [
    "def func (x):\n",
    "    if (x%2==0):\n",
    "        return 'Even'\n",
    "    else:\n",
    "        return 'Not even'"
   ]
  },
  {
   "cell_type": "code",
   "execution_count": 47,
   "metadata": {},
   "outputs": [],
   "source": [
    "even=map(func,numbers)"
   ]
  },
  {
   "cell_type": "code",
   "execution_count": 48,
   "metadata": {},
   "outputs": [
    {
     "name": "stdout",
     "output_type": "stream",
     "text": [
      "<map object at 0x108e98eb8>\n"
     ]
    }
   ],
   "source": [
    "print(even)"
   ]
  },
  {
   "cell_type": "markdown",
   "metadata": {},
   "source": [
    "$\\textbf{b.}$  Here I made an example where I made the comparison between performing the cycle for a inside the function or doing it outside the function, you can clearly see that the function is slower when the cycle for is outside the function. For this point I decided to take the sine function, where I took different values for its angle. "
   ]
  },
  {
   "cell_type": "code",
   "execution_count": 49,
   "metadata": {},
   "outputs": [
    {
     "name": "stdout",
     "output_type": "stream",
     "text": [
      "2.1621108055114746\n"
     ]
    }
   ],
   "source": [
    "def odd1(x):\n",
    "     np.sin(np.pi/2+x)\n",
    "\n",
    "sec=range(1000000)\n",
    "t = time.time()\n",
    "for i in sec:\n",
    "    odd1(i)\n",
    "    \n",
    "print(time.time()-t)"
   ]
  },
  {
   "cell_type": "code",
   "execution_count": 50,
   "metadata": {},
   "outputs": [
    {
     "name": "stdout",
     "output_type": "stream",
     "text": [
      "1.6025347709655762\n"
     ]
    }
   ],
   "source": [
    "\n",
    "def odd2(sec):\n",
    "    x=0\n",
    "    for i in sec:\n",
    "        np.sin(np.pi/2+x)\n",
    "\n",
    "sec=range(1000000)\n",
    "t = time.time()\n",
    "odd2(sec)\n",
    "print (time.time()-t)"
   ]
  },
  {
   "cell_type": "markdown",
   "metadata": {},
   "source": [
    "$\\textbf{c.}$ For this point I made a multiplication table, where as much as in the code of $c++$, as in the code of python, the user enters any number and the multiplication table of this number is calculated. Multiply the entered number and multiply from $0$ to $10$ million. Clearly $c++$ calculates this multiplication in a shorter time than it takes python to do the calculations. The code of $c++$ is attached the file is called \"RunMeIn.cpp\", attached you will find the image of the result obtained from compiling the program from the terminal. \n",
    "\n",
    "<img src=\"3c.png\">"
   ]
  },
  {
   "cell_type": "code",
   "execution_count": 51,
   "metadata": {},
   "outputs": [
    {
     "name": "stdout",
     "output_type": "stream",
     "text": [
      "Enter a number: 23\n"
     ]
    }
   ],
   "source": [
    "n = int(input(\"Enter a number: \"))"
   ]
  },
  {
   "cell_type": "code",
   "execution_count": 52,
   "metadata": {},
   "outputs": [],
   "source": [
    "def mult(num):\n",
    "    for i in num:\n",
    "        n*i\n",
    "        #print(n,\" X \",i,\" = \",n*i)"
   ]
  },
  {
   "cell_type": "code",
   "execution_count": 53,
   "metadata": {},
   "outputs": [
    {
     "name": "stderr",
     "output_type": "stream",
     "text": [
      "/anaconda3/lib/python3.7/site-packages/ipykernel_launcher.py:2: DeprecationWarning: time.clock has been deprecated in Python 3.3 and will be removed from Python 3.8: use time.perf_counter or time.process_time instead\n",
      "  \n"
     ]
    },
    {
     "name": "stdout",
     "output_type": "stream",
     "text": [
      "0.9141490000000001\n"
     ]
    },
    {
     "name": "stderr",
     "output_type": "stream",
     "text": [
      "/anaconda3/lib/python3.7/site-packages/ipykernel_launcher.py:4: DeprecationWarning: time.clock has been deprecated in Python 3.3 and will be removed from Python 3.8: use time.perf_counter or time.process_time instead\n",
      "  after removing the cwd from sys.path.\n"
     ]
    }
   ],
   "source": [
    "num = range(10000000+1)\n",
    "t = time.clock()\n",
    "mult(num)\n",
    "print (time.clock()-t)"
   ]
  },
  {
   "cell_type": "markdown",
   "metadata": {},
   "source": [
    "## 2. Python Decorators"
   ]
  },
  {
   "cell_type": "markdown",
   "metadata": {},
   "source": [
    "$\\textbf{a. }$The decorator is taking the argument of the cache function that in this case is $f$, this means that the function that is immediately below is not being decorated, but the global function that in this case is cache."
   ]
  },
  {
   "cell_type": "code",
   "execution_count": 54,
   "metadata": {},
   "outputs": [],
   "source": [
    "from functools import wraps\n",
    "def cache(f):\n",
    "    cache = { }\n",
    "    @wraps(f)\n",
    "    def wrap(*arg):\n",
    "        if arg not in cache: cache[arg] = f(*arg)\n",
    "        return cache[arg]\n",
    "    return wrap"
   ]
  },
  {
   "cell_type": "markdown",
   "metadata": {},
   "source": [
    "$\\textbf{b. }$ For this point what I did was to use the magic function %timeit pass to evaluate the means per loop of the code, I took three times the means and I plotted them all three at the same time."
   ]
  },
  {
   "cell_type": "code",
   "execution_count": 142,
   "metadata": {},
   "outputs": [
    {
     "name": "stdout",
     "output_type": "stream",
     "text": [
      "12.6 ns ± 0.559 ns per loop (mean ± std. dev. of 7 runs, 100000000 loops each)\n"
     ]
    }
   ],
   "source": [
    "def fib(i):\n",
    "    if i < 2:\n",
    "        return 1 \n",
    "    return fib(i-1) + fib(i-2)\n",
    "fib(25)\n",
    "%timeit pass"
   ]
  },
  {
   "cell_type": "code",
   "execution_count": 134,
   "metadata": {},
   "outputs": [],
   "source": [
    "fibnum=[20,25,30,35]\n",
    "means1=[11.6,12.5,13.7,11.8]\n",
    "means2=[11.9,12,12.5,12.4]\n",
    "means3=[12.8,13.1,12.6,12.3]"
   ]
  },
  {
   "cell_type": "code",
   "execution_count": 135,
   "metadata": {},
   "outputs": [],
   "source": [
    "import matplotlib.pyplot as plt"
   ]
  },
  {
   "cell_type": "code",
   "execution_count": 136,
   "metadata": {},
   "outputs": [
    {
     "data": {
      "image/png": "[encoded data removed]",
      "text/plain": [
       "<Figure size 432x288 with 1 Axes>"
      ]
     },
     "metadata": {
      "needs_background": "light"
     },
     "output_type": "display_data"
    }
   ],
   "source": [
    "plt.plot(fibnum,means1,\"o-\",color='k') \n",
    "plt.plot(fibnum,means2,\"o-\",color='g') \n",
    "plt.plot(fibnum,means3,\"o-\",color='r') \n",
    "plt.grid()\n",
    "plt.xlabel('Fibonacci number')\n",
    "plt.ylabel('Mean (ns) ')\n",
    "plt.title('Plot(Without decorating)')\n",
    "plt.show()"
   ]
  },
  {
   "cell_type": "markdown",
   "metadata": {},
   "source": [
    "$\\textbf{c. }$Having placed the @cache decoration I could notice that the function takes less time calculating fibonacci $35$, and more time calculating fibonacci $25$."
   ]
  },
  {
   "cell_type": "code",
   "execution_count": 157,
   "metadata": {},
   "outputs": [
    {
     "name": "stdout",
     "output_type": "stream",
     "text": [
      "11.8 ns ± 0.0962 ns per loop (mean ± std. dev. of 7 runs, 100000000 loops each)\n"
     ]
    }
   ],
   "source": [
    "@cache\n",
    "def fib(i):\n",
    "    if i < 2:\n",
    "        return 1 \n",
    "    return fib(i-1) + fib(i-2)\n",
    "fib(35)\n",
    "%timeit pass"
   ]
  },
  {
   "cell_type": "code",
   "execution_count": 159,
   "metadata": {},
   "outputs": [],
   "source": [
    "fibnumd=[20,25,30,35]\n",
    "means1d=[14,12.5,12.5,11.7]\n",
    "means2d=[13,12.2,12.5,11.9]\n",
    "means3d=[13.4,12.3,11.6,11.8]"
   ]
  },
  {
   "cell_type": "code",
   "execution_count": 162,
   "metadata": {},
   "outputs": [
    {
     "data": {
      "image/png": "[encoded data removed]",
      "text/plain": [
       "<Figure size 432x288 with 1 Axes>"
      ]
     },
     "metadata": {
      "needs_background": "light"
     },
     "output_type": "display_data"
    }
   ],
   "source": [
    "plt.plot(fibnumd,means1d,\"o-\",color='k') \n",
    "plt.plot(fibnumd,means2d,\"o-\",color='g') \n",
    "plt.plot(fibnumd,means3d,\"o-\",color='r') \n",
    "plt.grid()\n",
    "plt.xlabel('Fibonacci number')\n",
    "plt.ylabel('Mean ($ns$) ')\n",
    "plt.title('Plot (Decorated)')\n",
    "plt.show()"
   ]
  },
  {
   "cell_type": "code",
   "execution_count": null,
   "metadata": {},
   "outputs": [],
   "source": []
  }
 ],
 "metadata": {
  "kernelspec": {
   "display_name": "Python 3",
   "language": "python",
   "name": "python3"
  },
  "language_info": {
   "codemirror_mode": {
    "name": "ipython",
    "version": 3
   },
   "file_extension": ".py",
   "mimetype": "text/x-python",
   "name": "python",
   "nbconvert_exporter": "python",
   "pygments_lexer": "ipython3",
   "version": "3.7.1"
  }
 },
 "nbformat": 4,
 "nbformat_minor": 2
}
