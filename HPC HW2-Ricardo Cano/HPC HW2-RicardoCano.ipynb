{
 "cells": [
  {
   "cell_type": "markdown",
   "metadata": {},
   "source": [
    "<center>\n",
    "\n",
    "# Answers of Assignment 2\n",
    "\n",
    "## Ricardo Cano\n",
    "\n",
    "<center>"
   ]
  },
  {
   "cell_type": "markdown",
   "metadata": {},
   "source": [
    "# First point.\n",
    "\n",
    "For the first point, I made a program in c++ that plot the first iteration of the function $Map$ that depends from different parameter where $x_0=0$ and $y_0=0$, and the file .txt is adjoint with the homework, (I modified the c++ program to make the assigment, so the code that i wrote for the first part does not exist.)"
   ]
  },
  {
   "cell_type": "code",
   "execution_count": 12,
   "metadata": {},
   "outputs": [],
   "source": [
    "import numpy as np\n",
    "import matplotlib.pyplot as plt\n",
    "import matplotlib.cm as cm"
   ]
  },
  {
   "cell_type": "code",
   "execution_count": 13,
   "metadata": {},
   "outputs": [],
   "source": [
    "Data1=np.loadtxt(\"FirstPoint.txt\",delimiter=',')"
   ]
  },
  {
   "cell_type": "code",
   "execution_count": 14,
   "metadata": {},
   "outputs": [
    {
     "data": {
      "text/plain": [
       "array([1.4, 0. ])"
      ]
     },
     "execution_count": 14,
     "metadata": {},
     "output_type": "execute_result"
    }
   ],
   "source": [
    "Data1"
   ]
  },
  {
   "cell_type": "markdown",
   "metadata": {},
   "source": [
    "# Second point.\n",
    "\n",
    "For this part I added a for cycle that would do the iterations required by the $Map$ function, then I saved the data in a .txt file; whereafter I just imported the data to Jupyter and y ploted the $x$ data, in funcution of the $y$ data.\n",
    "   "
   ]
  },
  {
   "cell_type": "code",
   "execution_count": 15,
   "metadata": {},
   "outputs": [],
   "source": [
    "Data2=np.loadtxt(\"SecondPoint.txt\",delimiter=',')"
   ]
  },
  {
   "cell_type": "code",
   "execution_count": 16,
   "metadata": {},
   "outputs": [],
   "source": [
    "x = Data2[:,0]\n",
    "y = Data2[:,1]"
   ]
  },
  {
   "cell_type": "code",
   "execution_count": 17,
   "metadata": {},
   "outputs": [
    {
     "data": {
      "image/png": "[encoded data removed]",
      "text/plain": [
       "<Figure size 432x288 with 1 Axes>"
      ]
     },
     "metadata": {
      "needs_background": "light"
     },
     "output_type": "display_data"
    }
   ],
   "source": [
    "plt.plot(x,y,\".\",color='k') \n",
    "plt.grid()\n",
    "plt.xlabel('x ')\n",
    "plt.ylabel('y ')\n",
    "plt.title('Map Plot')\n",
    "plt.show()"
   ]
  },
  {
   "cell_type": "markdown",
   "metadata": {},
   "source": [
    "# Third point.\n",
    "\n",
    "Finally, I added to c++ code other two for cycles of the grid size, also I had to add a conditional part to evaluate the condition of the $|p|>R$, then I import the results and I orginzed the array in form of a matrix, where the matrix has a dimension of $10$, afterthat I plot the data with the hint that you suggest."
   ]
  },
  {
   "cell_type": "code",
   "execution_count": 18,
   "metadata": {},
   "outputs": [],
   "source": [
    "Data3=np.loadtxt(\"ThirdPoint.txt\",delimiter=',')"
   ]
  },
  {
   "cell_type": "code",
   "execution_count": 19,
   "metadata": {},
   "outputs": [],
   "source": [
    "matrix=np.asmatrix(Data3).reshape(10,10)"
   ]
  },
  {
   "cell_type": "code",
   "execution_count": 20,
   "metadata": {},
   "outputs": [
    {
     "data": {
      "image/png": "[encoded data removed]",
      "text/plain": [
       "<Figure size 432x288 with 1 Axes>"
      ]
     },
     "metadata": {
      "needs_background": "light"
     },
     "output_type": "display_data"
    }
   ],
   "source": [
    "plt.imshow(matrix, interpolation='nearest', cmap=cm.hot)\n",
    "plt.grid(False)"
   ]
  },
  {
   "cell_type": "markdown",
   "metadata": {},
   "source": [
    "# Remark:\n",
    "\n",
    "I have to confess that this homework was so triky for me, because I didn't remember how to programming in c++, and I spent a lot of time making this code in c, and just 30 minuts using python hahaha. "
   ]
  },
  {
   "cell_type": "code",
   "execution_count": null,
   "metadata": {},
   "outputs": [],
   "source": []
  }
 ],
 "metadata": {
  "kernelspec": {
   "display_name": "Python 3",
   "language": "python",
   "name": "python3"
  },
  "language_info": {
   "codemirror_mode": {
    "name": "ipython",
    "version": 3
   },
   "file_extension": ".py",
   "mimetype": "text/x-python",
   "name": "python",
   "nbconvert_exporter": "python",
   "pygments_lexer": "ipython3",
   "version": "3.7.1"
  }
 },
 "nbformat": 4,
 "nbformat_minor": 2
}
