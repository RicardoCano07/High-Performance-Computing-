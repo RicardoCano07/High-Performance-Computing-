{
 "cells": [
  {
   "cell_type": "markdown",
   "metadata": {},
   "source": [
    "# HW 4"
   ]
  },
  {
   "cell_type": "code",
   "execution_count": 1,
   "metadata": {},
   "outputs": [],
   "source": [
    "from pylab import *\n",
    "import numpy as np\n",
    "import sympy as sy\n",
    "import matplotlib.pyplot as plt\n",
    "import numpy as np"
   ]
  },
  {
   "cell_type": "code",
   "execution_count": null,
   "metadata": {},
   "outputs": [],
   "source": [
    "def HenonMap(x,y,a,b,alpha,beta):\n",
    "    return a- alpha*x**2+b*y, beta*x"
   ]
  },
  {
   "cell_type": "code",
   "execution_count": null,
   "metadata": {},
   "outputs": [],
   "source": [
    "# Map dependent parameters\n",
    "a = 1.4\n",
    "b = 0.3\n",
    "alpha=1\n",
    "beta=1\n",
    "\n",
    "iterates = 1000\n",
    "# Initial Condition\n",
    "xtemp = 0.1\n",
    "ytemp = 0.1\n",
    "\n",
    "x = [xtemp]\n",
    "y = [ytemp]\n",
    "\n",
    "for n in range(0,iterates):\n",
    "    xtemp, ytemp = HenonMap(xtemp,ytemp,a,b,alpha,beta)\n",
    "    x.append( xtemp )\n",
    "    y.append( ytemp )\n",
    "\n",
    "# Plot the time series\n",
    "plt.plot(x,y,'k.')\n",
    "plt.savefig(\"Solucion.png\",dpi=300)\n",
    "show()"
   ]
  },
  {
   "cell_type": "code",
   "execution_count": null,
   "metadata": {},
   "outputs": [],
   "source": [
    "a = 1\n",
    "b = 1\n",
    "alpha=0.2\n",
    "beta=1.01\n",
    "\n",
    "R=100\n",
    "p=4\n",
    "q=4\n",
    "npoints=600\n",
    "\n",
    "pgrid=np.linspace(0,4,npoints)\n",
    "qgrid=np.linspace(-4,0,npoints)\n",
    "\n",
    "values=np.zeros([npoints,npoints])\n",
    "\n",
    "for i in range(npoints):\n",
    "    for j in range(npoints):\n",
    "        xtemp = pgrid[i]\n",
    "        ytemp = qgrid[j]\n",
    "        aux=0\n",
    "        while (xtemp**2+ytemp**2)<R:\n",
    "            xtemp, ytemp = HenonMap(xtemp,ytemp,a,b,alpha,beta)\n",
    "            if aux>1000:\n",
    "                break\n",
    "            aux+=1\n",
    "        values[i,j]=aux"
   ]
  },
  {
   "cell_type": "code",
   "execution_count": null,
   "metadata": {
    "scrolled": true
   },
   "outputs": [],
   "source": [
    "plt.imshow(values, interpolation='nearest', cmap=cm.hot)\n",
    "plt.savefig(\"HenonMap.png\",dpi=300)\n",
    "show()"
   ]
  }
 ],
 "metadata": {
  "anaconda-cloud": {},
  "kernelspec": {
   "display_name": "Python 3",
   "language": "python",
   "name": "python3"
  },
  "language_info": {
   "codemirror_mode": {
    "name": "ipython",
    "version": 3
   },
   "file_extension": ".py",
   "mimetype": "text/x-python",
   "name": "python",
   "nbconvert_exporter": "python",
   "pygments_lexer": "ipython3",
   "version": "3.6.5"
  }
 },
 "nbformat": 4,
 "nbformat_minor": 1
}
